{
 "cells": [
  {
   "cell_type": "code",
   "execution_count": 1,
   "id": "90d17386-9035-4d70-ad8c-d281b2c67f85",
   "metadata": {},
   "outputs": [
    {
     "name": "stdout",
     "output_type": "stream",
     "text": [
      "WARNING:tensorflow:From C:\\Users\\Aliaksey\\AppData\\Local\\Programs\\Python\\Python311\\Lib\\site-packages\\keras\\src\\losses.py:2976: The name tf.losses.sparse_softmax_cross_entropy is deprecated. Please use tf.compat.v1.losses.sparse_softmax_cross_entropy instead.\n",
      "\n"
     ]
    }
   ],
   "source": [
    "from tensorflow import keras\n",
    "from tensorflow.keras import layers"
   ]
  },
  {
   "cell_type": "code",
   "execution_count": 3,
   "id": "c2e59985-865e-48fe-8366-dbfcdcf0ac8c",
   "metadata": {},
   "outputs": [],
   "source": [
    "(x_train, y_train), (x_test, y_test) = keras.datasets.fashion_mnist.load_data()"
   ]
  },
  {
   "cell_type": "code",
   "execution_count": 4,
   "id": "c1406639-351f-408e-8842-c6bdf0204302",
   "metadata": {},
   "outputs": [],
   "source": [
    "x_train = x_train.astype(\"float32\") / 255.0\n",
    "x_test = x_test.astype(\"float32\") / 255.0"
   ]
  },
  {
   "cell_type": "code",
   "execution_count": 5,
   "id": "b39ae372-56dc-4a61-aa91-33c8d9b2a7af",
   "metadata": {},
   "outputs": [],
   "source": [
    "y_train = keras.utils.to_categorical(y_train, num_classes=10)\n",
    "y_test = keras.utils.to_categorical(y_test, num_classes=10)"
   ]
  },
  {
   "cell_type": "code",
   "execution_count": 6,
   "id": "d0be7a39-5fa0-4c2d-aea6-e50ce3c207fb",
   "metadata": {},
   "outputs": [
    {
     "name": "stdout",
     "output_type": "stream",
     "text": [
      "WARNING:tensorflow:From C:\\Users\\Aliaksey\\AppData\\Local\\Programs\\Python\\Python311\\Lib\\site-packages\\keras\\src\\backend.py:873: The name tf.get_default_graph is deprecated. Please use tf.compat.v1.get_default_graph instead.\n",
      "\n"
     ]
    }
   ],
   "source": [
    "model = keras.Sequential()\n",
    "model.add(layers.Flatten(input_shape=(28, 28)))\n",
    "model.add(layers.Dense(128, activation=\"relu\"))\n",
    "model.add(layers.Dense(64, activation=\"relu\"))\n",
    "model.add(layers.Dense(10, activation=\"softmax\"))"
   ]
  },
  {
   "cell_type": "code",
   "execution_count": 7,
   "id": "18efe396-978e-4357-810f-ec29e5106a91",
   "metadata": {},
   "outputs": [
    {
     "name": "stdout",
     "output_type": "stream",
     "text": [
      "WARNING:tensorflow:From C:\\Users\\Aliaksey\\AppData\\Local\\Programs\\Python\\Python311\\Lib\\site-packages\\keras\\src\\optimizers\\__init__.py:309: The name tf.train.Optimizer is deprecated. Please use tf.compat.v1.train.Optimizer instead.\n",
      "\n"
     ]
    }
   ],
   "source": [
    "model.compile(optimizer=\"adam\", loss=\"categorical_crossentropy\", metrics=[\"accuracy\"])"
   ]
  },
  {
   "cell_type": "code",
   "execution_count": 8,
   "id": "9ee2f6ce-c1cf-4b41-9d20-6b4a8ea106e7",
   "metadata": {},
   "outputs": [
    {
     "name": "stdout",
     "output_type": "stream",
     "text": [
      "Epoch 1/10\n",
      "WARNING:tensorflow:From C:\\Users\\Aliaksey\\AppData\\Local\\Programs\\Python\\Python311\\Lib\\site-packages\\keras\\src\\utils\\tf_utils.py:492: The name tf.ragged.RaggedTensorValue is deprecated. Please use tf.compat.v1.ragged.RaggedTensorValue instead.\n",
      "\n",
      "WARNING:tensorflow:From C:\\Users\\Aliaksey\\AppData\\Local\\Programs\\Python\\Python311\\Lib\\site-packages\\keras\\src\\engine\\base_layer_utils.py:384: The name tf.executing_eagerly_outside_functions is deprecated. Please use tf.compat.v1.executing_eagerly_outside_functions instead.\n",
      "\n",
      "375/375 [==============================] - 3s 5ms/step - loss: 0.5800 - accuracy: 0.8013 - val_loss: 0.4467 - val_accuracy: 0.8413\n",
      "Epoch 2/10\n",
      "375/375 [==============================] - 2s 4ms/step - loss: 0.4046 - accuracy: 0.8555 - val_loss: 0.3959 - val_accuracy: 0.8623\n",
      "Epoch 3/10\n",
      "375/375 [==============================] - 2s 4ms/step - loss: 0.3636 - accuracy: 0.8698 - val_loss: 0.3609 - val_accuracy: 0.8718\n",
      "Epoch 4/10\n",
      "375/375 [==============================] - 2s 4ms/step - loss: 0.3373 - accuracy: 0.8786 - val_loss: 0.3491 - val_accuracy: 0.8749\n",
      "Epoch 5/10\n",
      "375/375 [==============================] - 2s 4ms/step - loss: 0.3153 - accuracy: 0.8848 - val_loss: 0.3473 - val_accuracy: 0.8749\n",
      "Epoch 6/10\n",
      "375/375 [==============================] - 2s 4ms/step - loss: 0.2983 - accuracy: 0.8898 - val_loss: 0.3544 - val_accuracy: 0.8714\n",
      "Epoch 7/10\n",
      "375/375 [==============================] - 2s 4ms/step - loss: 0.2859 - accuracy: 0.8944 - val_loss: 0.3320 - val_accuracy: 0.8814\n",
      "Epoch 8/10\n",
      "375/375 [==============================] - 2s 4ms/step - loss: 0.2716 - accuracy: 0.9010 - val_loss: 0.3404 - val_accuracy: 0.8792\n",
      "Epoch 9/10\n",
      "375/375 [==============================] - 2s 4ms/step - loss: 0.2643 - accuracy: 0.9028 - val_loss: 0.3183 - val_accuracy: 0.8873\n",
      "Epoch 10/10\n",
      "375/375 [==============================] - 2s 5ms/step - loss: 0.2537 - accuracy: 0.9073 - val_loss: 0.3300 - val_accuracy: 0.8839\n"
     ]
    },
    {
     "data": {
      "text/plain": [
       "<keras.src.callbacks.History at 0x23e676bc6d0>"
      ]
     },
     "execution_count": 8,
     "metadata": {},
     "output_type": "execute_result"
    }
   ],
   "source": [
    "model.fit(x_train, y_train, batch_size=128, epochs=10, validation_split=0.2)"
   ]
  },
  {
   "cell_type": "code",
   "execution_count": 9,
   "id": "f57c8879-2adc-4b47-86f7-250e3a53f914",
   "metadata": {},
   "outputs": [
    {
     "name": "stdout",
     "output_type": "stream",
     "text": [
      "313/313 [==============================] - 1s 2ms/step - loss: 0.3574 - accuracy: 0.8752\n",
      "Test Accuracy: 0.8751999735832214\n"
     ]
    }
   ],
   "source": [
    "# Оцінка точності моделі на тестових даних\n",
    "test_loss, test_accuracy = model.evaluate(x_test, y_test)\n",
    "print(f\"Test Accuracy: {test_accuracy}\")"
   ]
  },
  {
   "cell_type": "code",
   "execution_count": null,
   "id": "f191659e-ce95-4c84-a20b-12dd7828d584",
   "metadata": {},
   "outputs": [],
   "source": [
    "№2 - Dropout"
   ]
  },
  {
   "cell_type": "code",
   "execution_count": 10,
   "id": "4ec36add-c530-41a5-a6dd-2917e9418213",
   "metadata": {},
   "outputs": [
    {
     "name": "stdout",
     "output_type": "stream",
     "text": [
      "Epoch 1/10\n",
      "375/375 [==============================] - 3s 5ms/step - loss: 0.9896 - accuracy: 0.6471 - val_loss: 0.5218 - val_accuracy: 0.8079\n",
      "Epoch 2/10\n",
      "375/375 [==============================] - 2s 5ms/step - loss: 0.6281 - accuracy: 0.7787 - val_loss: 0.4548 - val_accuracy: 0.8381\n",
      "Epoch 3/10\n",
      "375/375 [==============================] - 2s 4ms/step - loss: 0.5650 - accuracy: 0.8039 - val_loss: 0.4307 - val_accuracy: 0.8468\n",
      "Epoch 4/10\n",
      "375/375 [==============================] - 2s 4ms/step - loss: 0.5208 - accuracy: 0.8187 - val_loss: 0.4096 - val_accuracy: 0.8478\n",
      "Epoch 5/10\n",
      "375/375 [==============================] - 2s 4ms/step - loss: 0.4986 - accuracy: 0.8251 - val_loss: 0.3954 - val_accuracy: 0.8557\n",
      "Epoch 6/10\n",
      "375/375 [==============================] - 2s 4ms/step - loss: 0.4759 - accuracy: 0.8319 - val_loss: 0.3883 - val_accuracy: 0.8568\n",
      "Epoch 7/10\n",
      "375/375 [==============================] - 2s 4ms/step - loss: 0.4707 - accuracy: 0.8343 - val_loss: 0.3790 - val_accuracy: 0.8577\n",
      "Epoch 8/10\n",
      "375/375 [==============================] - 2s 4ms/step - loss: 0.4582 - accuracy: 0.8395 - val_loss: 0.3677 - val_accuracy: 0.8636\n",
      "Epoch 9/10\n",
      "375/375 [==============================] - 2s 4ms/step - loss: 0.4441 - accuracy: 0.8452 - val_loss: 0.3706 - val_accuracy: 0.8644\n",
      "Epoch 10/10\n",
      "375/375 [==============================] - 2s 5ms/step - loss: 0.4375 - accuracy: 0.8459 - val_loss: 0.3657 - val_accuracy: 0.8645\n",
      "313/313 [==============================] - 1s 2ms/step - loss: 0.3895 - accuracy: 0.8589\n",
      "Test Accuracy: 0.8589000105857849\n"
     ]
    }
   ],
   "source": [
    "from tensorflow import keras\n",
    "from tensorflow.keras import layers\n",
    "\n",
    "(x_train, y_train), (x_test, y_test) = keras.datasets.fashion_mnist.load_data()\n",
    "\n",
    "x_train = x_train.astype(\"float32\") / 255.0\n",
    "x_test = x_test.astype(\"float32\") / 255.0\n",
    "\n",
    "y_train = keras.utils.to_categorical(y_train, num_classes=10)\n",
    "y_test = keras.utils.to_categorical(y_test, num_classes=10)\n",
    "\n",
    "model = keras.Sequential()\n",
    "model.add(layers.Flatten(input_shape=(28, 28)))\n",
    "model.add(layers.Dense(128, activation='relu'))\n",
    "model.add(layers.Dropout(0.5))\n",
    "model.add(layers.Dense(64, activation='relu'))\n",
    "model.add(layers.Dropout(0.5))\n",
    "model.add(layers.Dense(10, activation='softmax'))\n",
    "\n",
    "model.compile(optimizer=\"adam\", loss=\"categorical_crossentropy\", metrics=[\"accuracy\"])\n",
    "\n",
    "model.fit(x_train, y_train, batch_size=128, epochs=10, validation_split=0.2)\n",
    "\n",
    "test_loss, test_accuracy = model.evaluate(x_test, y_test)\n",
    "print(f\"Test Accuracy: {test_accuracy}\")"
   ]
  },
  {
   "cell_type": "code",
   "execution_count": null,
   "id": "7834407f-321b-497e-bccf-ffd08fb36259",
   "metadata": {},
   "outputs": [],
   "source": [
    "№3 - Додавання додаткових згорткових шарів"
   ]
  },
  {
   "cell_type": "code",
   "execution_count": 11,
   "id": "57fb8c58-5546-4c9a-8390-78fe06a2860d",
   "metadata": {},
   "outputs": [
    {
     "name": "stdout",
     "output_type": "stream",
     "text": [
      "WARNING:tensorflow:From C:\\Users\\Aliaksey\\AppData\\Local\\Programs\\Python\\Python311\\Lib\\site-packages\\keras\\src\\layers\\pooling\\max_pooling2d.py:161: The name tf.nn.max_pool is deprecated. Please use tf.nn.max_pool2d instead.\n",
      "\n",
      "Epoch 1/10\n",
      "375/375 [==============================] - 12s 29ms/step - loss: 0.5654 - accuracy: 0.7972 - val_loss: 0.3998 - val_accuracy: 0.8572\n",
      "Epoch 2/10\n",
      "375/375 [==============================] - 11s 28ms/step - loss: 0.3638 - accuracy: 0.8693 - val_loss: 0.3497 - val_accuracy: 0.8759\n",
      "Epoch 3/10\n",
      "375/375 [==============================] - 11s 28ms/step - loss: 0.3191 - accuracy: 0.8844 - val_loss: 0.3213 - val_accuracy: 0.8848\n",
      "Epoch 4/10\n",
      "375/375 [==============================] - 11s 28ms/step - loss: 0.2862 - accuracy: 0.8969 - val_loss: 0.2915 - val_accuracy: 0.8956\n",
      "Epoch 5/10\n",
      "375/375 [==============================] - 11s 28ms/step - loss: 0.2653 - accuracy: 0.9030 - val_loss: 0.2866 - val_accuracy: 0.8957\n",
      "Epoch 6/10\n",
      "375/375 [==============================] - 11s 29ms/step - loss: 0.2426 - accuracy: 0.9104 - val_loss: 0.2810 - val_accuracy: 0.8972\n",
      "Epoch 7/10\n",
      "375/375 [==============================] - 11s 29ms/step - loss: 0.2252 - accuracy: 0.9177 - val_loss: 0.2665 - val_accuracy: 0.9060\n",
      "Epoch 8/10\n",
      "375/375 [==============================] - 11s 29ms/step - loss: 0.2065 - accuracy: 0.9257 - val_loss: 0.2636 - val_accuracy: 0.9075\n",
      "Epoch 9/10\n",
      "375/375 [==============================] - 11s 28ms/step - loss: 0.1909 - accuracy: 0.9305 - val_loss: 0.2505 - val_accuracy: 0.9093\n",
      "Epoch 10/10\n",
      "375/375 [==============================] - 11s 28ms/step - loss: 0.1815 - accuracy: 0.9323 - val_loss: 0.2447 - val_accuracy: 0.9132\n",
      "313/313 [==============================] - 1s 4ms/step - loss: 0.2503 - accuracy: 0.9077\n",
      "Test Accuracy: 0.9077000021934509\n"
     ]
    }
   ],
   "source": [
    "from tensorflow import keras\n",
    "from tensorflow.keras import layers\n",
    "\n",
    "(x_train, y_train), (x_test, y_test) = keras.datasets.fashion_mnist.load_data()\n",
    "\n",
    "x_train = x_train.astype(\"float32\") / 255.0\n",
    "x_test = x_test.astype(\"float32\") / 255.0\n",
    "\n",
    "y_train = keras.utils.to_categorical(y_train, num_classes=10)\n",
    "y_test = keras.utils.to_categorical(y_test, num_classes=10)\n",
    "\n",
    "model = keras.Sequential()\n",
    "model.add(layers.Conv2D(32, (3, 3), activation='relu', input_shape=(28, 28, 1)))\n",
    "model.add(layers.MaxPooling2D((2, 2)))\n",
    "model.add(layers.Conv2D(64, (3, 3), activation='relu'))\n",
    "model.add(layers.MaxPooling2D((2, 2)))\n",
    "model.add(layers.Flatten())\n",
    "model.add(layers.Dense(128, activation='relu'))\n",
    "model.add(layers.Dense(10, activation='softmax'))\n",
    "\n",
    "model.compile(optimizer=\"adam\", loss=\"categorical_crossentropy\", metrics=[\"accuracy\"])\n",
    "\n",
    "model.fit(x_train, y_train, batch_size=128, epochs=10, validation_split=0.2)\n",
    "\n",
    "test_loss, test_accuracy = model.evaluate(x_test, y_test)\n",
    "print(f\"Test Accuracy: {test_accuracy}\")"
   ]
  },
  {
   "cell_type": "code",
   "execution_count": null,
   "id": "793b1b08-d7ed-439e-9700-1cdfad0568fb",
   "metadata": {},
   "outputs": [],
   "source": [
    "№4 - Додавання епох"
   ]
  },
  {
   "cell_type": "code",
   "execution_count": 12,
   "id": "05e17b7a-b42c-4746-ac02-e3a23c4a604c",
   "metadata": {},
   "outputs": [
    {
     "name": "stdout",
     "output_type": "stream",
     "text": [
      "Epoch 1/13\n",
      "375/375 [==============================] - 12s 29ms/step - loss: 0.5688 - accuracy: 0.7954 - val_loss: 0.3927 - val_accuracy: 0.8621\n",
      "Epoch 2/13\n",
      "375/375 [==============================] - 11s 28ms/step - loss: 0.3575 - accuracy: 0.8718 - val_loss: 0.3526 - val_accuracy: 0.8747\n",
      "Epoch 3/13\n",
      "375/375 [==============================] - 11s 29ms/step - loss: 0.3128 - accuracy: 0.8873 - val_loss: 0.3370 - val_accuracy: 0.8755\n",
      "Epoch 4/13\n",
      "375/375 [==============================] - 11s 30ms/step - loss: 0.2775 - accuracy: 0.9006 - val_loss: 0.3277 - val_accuracy: 0.8828\n",
      "Epoch 5/13\n",
      "375/375 [==============================] - 11s 30ms/step - loss: 0.2519 - accuracy: 0.9085 - val_loss: 0.2711 - val_accuracy: 0.9027\n",
      "Epoch 6/13\n",
      "375/375 [==============================] - 12s 31ms/step - loss: 0.2352 - accuracy: 0.9131 - val_loss: 0.2823 - val_accuracy: 0.8967\n",
      "Epoch 7/13\n",
      "375/375 [==============================] - 11s 30ms/step - loss: 0.2179 - accuracy: 0.9205 - val_loss: 0.2576 - val_accuracy: 0.9068\n",
      "Epoch 8/13\n",
      "375/375 [==============================] - 11s 30ms/step - loss: 0.2025 - accuracy: 0.9256 - val_loss: 0.2829 - val_accuracy: 0.8965\n",
      "Epoch 9/13\n",
      "375/375 [==============================] - 11s 30ms/step - loss: 0.1905 - accuracy: 0.9298 - val_loss: 0.2580 - val_accuracy: 0.9111\n",
      "Epoch 10/13\n",
      "375/375 [==============================] - 11s 29ms/step - loss: 0.1767 - accuracy: 0.9346 - val_loss: 0.2598 - val_accuracy: 0.9079\n",
      "Epoch 11/13\n",
      "375/375 [==============================] - 11s 28ms/step - loss: 0.1606 - accuracy: 0.9401 - val_loss: 0.2521 - val_accuracy: 0.9120\n",
      "Epoch 12/13\n",
      "375/375 [==============================] - 11s 28ms/step - loss: 0.1468 - accuracy: 0.9462 - val_loss: 0.2626 - val_accuracy: 0.9098\n",
      "Epoch 13/13\n",
      "375/375 [==============================] - 11s 30ms/step - loss: 0.1338 - accuracy: 0.9509 - val_loss: 0.2551 - val_accuracy: 0.9131\n",
      "313/313 [==============================] - 1s 4ms/step - loss: 0.2615 - accuracy: 0.9121\n",
      "Test Accuracy: 0.9121000170707703\n"
     ]
    }
   ],
   "source": [
    "from tensorflow import keras\n",
    "from tensorflow.keras import layers\n",
    "\n",
    "(x_train, y_train), (x_test, y_test) = keras.datasets.fashion_mnist.load_data()\n",
    "\n",
    "x_train = x_train.astype(\"float32\") / 255.0\n",
    "x_test = x_test.astype(\"float32\") / 255.0\n",
    "\n",
    "y_train = keras.utils.to_categorical(y_train, num_classes=10)\n",
    "y_test = keras.utils.to_categorical(y_test, num_classes=10)\n",
    "\n",
    "model = keras.Sequential()\n",
    "model.add(layers.Conv2D(32, (3, 3), activation='relu', input_shape=(28, 28, 1)))\n",
    "model.add(layers.MaxPooling2D((2, 2)))\n",
    "model.add(layers.Conv2D(64, (3, 3), activation='relu'))\n",
    "model.add(layers.MaxPooling2D((2, 2)))\n",
    "model.add(layers.Flatten())\n",
    "model.add(layers.Dense(128, activation='relu'))\n",
    "model.add(layers.Dense(10, activation='softmax'))\n",
    "\n",
    "model.compile(optimizer=\"adam\", loss=\"categorical_crossentropy\", metrics=[\"accuracy\"])\n",
    "\n",
    "model.fit(x_train, y_train, batch_size=128, epochs=13, validation_split=0.2)\n",
    "\n",
    "test_loss, test_accuracy = model.evaluate(x_test, y_test)\n",
    "print(f\"Test Accuracy: {test_accuracy}\")"
   ]
  },
  {
   "cell_type": "code",
   "execution_count": null,
   "id": "f89aa42a-8de3-4db2-b050-04e51a4c2faa",
   "metadata": {},
   "outputs": [],
   "source": [
    "Збільшення кількісті епох найкраще повпливала на результати точністі - Test Accuracy: 0.9121000170707703"
   ]
  },
  {
   "cell_type": "code",
   "execution_count": null,
   "id": "fcdfd672-c454-4869-980f-3e9e61cbb40e",
   "metadata": {},
   "outputs": [],
   "source": []
  }
 ],
 "metadata": {
  "kernelspec": {
   "display_name": "Python 3 (ipykernel)",
   "language": "python",
   "name": "python3"
  },
  "language_info": {
   "codemirror_mode": {
    "name": "ipython",
    "version": 3
   },
   "file_extension": ".py",
   "mimetype": "text/x-python",
   "name": "python",
   "nbconvert_exporter": "python",
   "pygments_lexer": "ipython3",
   "version": "3.11.2"
  }
 },
 "nbformat": 4,
 "nbformat_minor": 5
}
